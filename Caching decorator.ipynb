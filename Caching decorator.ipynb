{
 "cells": [
  {
   "cell_type": "markdown",
   "id": "4549ab75-86b0-4261-97d2-7c7317348761",
   "metadata": {},
   "source": [
    "**Задание №2**\n",
    "\n",
    "На данной странице предложено 2 варианта использования кэширования результатов:\n",
    " * *custom_memoize* - пользовательский метод\n",
    " * *lru_memoize* - метод на основе lru_cache из модуля functools\n",
    " \n",
    " В качестве \"испытуемого\" используется функция по вычислению чисел Фибоначчи"
   ]
  },
  {
   "cell_type": "code",
   "execution_count": 1,
   "id": "a6bb93c0-ac28-4bed-94d3-613b1228b16c",
   "metadata": {},
   "outputs": [],
   "source": [
    "from functools import lru_cache\n",
    "import timeit"
   ]
  },
  {
   "cell_type": "code",
   "execution_count": 2,
   "id": "5daf4af4-36a8-41e9-8a68-786cd7d3db48",
   "metadata": {},
   "outputs": [],
   "source": [
    "def custom_memoize(func, use_cache = True):\n",
    "    cache = dict()\n",
    "\n",
    "    def memoized_func(*args):\n",
    "        if args in cache and use_cache:\n",
    "            return cache[args]\n",
    "        result = func(*args)\n",
    "        cache[args] = result\n",
    "        return result\n",
    "\n",
    "    return memoized_func\n",
    "\n",
    "def fibonacci(n):\n",
    "    if n == 0:\n",
    "        return 0\n",
    "    elif n == 1:\n",
    "        return 1\n",
    "    return fibonacci(n - 1) + fibonacci(n - 2)"
   ]
  },
  {
   "cell_type": "code",
   "execution_count": 3,
   "id": "69f5b94c-c652-4dce-8e18-ac40c8fe875e",
   "metadata": {},
   "outputs": [
    {
     "data": {
      "text/plain": [
       "2.332359199999999"
      ]
     },
     "execution_count": 3,
     "metadata": {},
     "output_type": "execute_result"
    }
   ],
   "source": [
    "timeit.timeit('fibonacci(35)', globals=globals(), number=1)"
   ]
  },
  {
   "cell_type": "code",
   "execution_count": 4,
   "id": "74a3d930-f6d3-4fb2-b581-a62e28cab953",
   "metadata": {},
   "outputs": [
    {
     "name": "stdout",
     "output_type": "stream",
     "text": [
      "\n",
      "Время первого выполнения с кэшированием через custom_memoize: 2.311827600000001\n",
      "Время второго выполнения с кэшированием через custom_memoize: 1.7000000021027972e-06\n"
     ]
    }
   ],
   "source": [
    "custom_memoized_fibonacci = custom_memoize(fibonacci, True)\n",
    "\n",
    "print(\"\\nВремя первого выполнения с кэшированием через custom_memoize:\", timeit.timeit('custom_memoized_fibonacci(35)', globals=globals(), number=1))\n",
    "print(\"Время второго выполнения с кэшированием через custom_memoize:\", timeit.timeit('custom_memoized_fibonacci(35)', globals=globals(), number=1))"
   ]
  },
  {
   "cell_type": "code",
   "execution_count": 5,
   "id": "1f778e5b-b74c-4259-9a9c-3c85afcfcacc",
   "metadata": {},
   "outputs": [
    {
     "name": "stdout",
     "output_type": "stream",
     "text": [
      "\n",
      "Время первого выполнения без кэширования через custom_memoize: 2.3032286000000006\n",
      "Время второго выполнения без кэширования через custom_memoize: 2.284427700000002\n"
     ]
    }
   ],
   "source": [
    "custom_not_memoized_fibonacci = custom_memoize(fibonacci, False)\n",
    "print(\"\\nВремя первого выполнения без кэширования через custom_memoize:\", timeit.timeit('custom_not_memoized_fibonacci(35)', globals=globals(), number=1))\n",
    "print(\"Время второго выполнения без кэширования через custom_memoize:\", timeit.timeit('custom_not_memoized_fibonacci(35)', globals=globals(), number=1))"
   ]
  },
  {
   "cell_type": "code",
   "execution_count": 6,
   "id": "7174783f-3e5c-4ee4-9af6-5276db4dea73",
   "metadata": {},
   "outputs": [],
   "source": [
    "def lru_memoize(func, use_cache=True):\n",
    "    \n",
    "    @lru_cache\n",
    "    def cache_fibonacci(n):\n",
    "        if n == 0:\n",
    "            return 0\n",
    "        elif n == 1:\n",
    "            return 1\n",
    "        return fibonacci(n - 1) + fibonacci(n - 2)\n",
    "    \n",
    "    if use_cache==True:\n",
    "        return cache_fibonacci\n",
    "    return fibonacci"
   ]
  },
  {
   "cell_type": "code",
   "execution_count": 7,
   "id": "a0446373-da3a-493f-bc51-891c0aace9cf",
   "metadata": {},
   "outputs": [
    {
     "name": "stdout",
     "output_type": "stream",
     "text": [
      "\n",
      "\n",
      "Время первого выполнения с кэшированием через lru_memoize: 2.306042699999999\n",
      "Время второго выполнения с кэшированием через lru_memoize: 9.999999974752427e-07\n"
     ]
    }
   ],
   "source": [
    "lru_memoized_fibonacci = lru_memoize(fibonacci, True)\n",
    "print(\"\\n\\nВремя первого выполнения с кэшированием через lru_memoize:\", timeit.timeit('lru_memoized_fibonacci(35)', globals=globals(), number=1))\n",
    "print(\"Время второго выполнения с кэшированием через lru_memoize:\", timeit.timeit('lru_memoized_fibonacci(35)', globals=globals(), number=1))"
   ]
  },
  {
   "cell_type": "code",
   "execution_count": 8,
   "id": "4012fb53-3d47-4886-9a26-6ae19b72c509",
   "metadata": {},
   "outputs": [
    {
     "name": "stdout",
     "output_type": "stream",
     "text": [
      "\n",
      "\n",
      "Время первого выполнения без кэширования через lru_memoize: 2.2835654000000005\n",
      "Время второго выполнения без кэширования через lru_memoize: 2.2234364999999983\n"
     ]
    }
   ],
   "source": [
    "lru_not_memoized_fibonacci = lru_memoize(fibonacci, False)\n",
    "print(\"\\n\\nВремя первого выполнения без кэширования через lru_memoize:\", timeit.timeit('lru_not_memoized_fibonacci(35)', globals=globals(), number=1))\n",
    "print(\"Время второго выполнения без кэширования через lru_memoize:\", timeit.timeit('lru_not_memoized_fibonacci(35)', globals=globals(), number=1))"
   ]
  }
 ],
 "metadata": {
  "kernelspec": {
   "display_name": "Python 3",
   "language": "python",
   "name": "python3"
  },
  "language_info": {
   "codemirror_mode": {
    "name": "ipython",
    "version": 3
   },
   "file_extension": ".py",
   "mimetype": "text/x-python",
   "name": "python",
   "nbconvert_exporter": "python",
   "pygments_lexer": "ipython3",
   "version": "3.9.1"
  }
 },
 "nbformat": 4,
 "nbformat_minor": 5
}
