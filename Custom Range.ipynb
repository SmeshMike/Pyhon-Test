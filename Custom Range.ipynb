{
 "cells": [
  {
   "cell_type": "markdown",
   "id": "079880fc-39f6-4617-832a-207cf88a508b",
   "metadata": {},
   "source": [
    "**Задание №1**"
   ]
  },
  {
   "cell_type": "code",
   "execution_count": 1,
   "id": "470d88ef-1514-4480-9802-5b391ca0e68c",
   "metadata": {},
   "outputs": [],
   "source": [
    "def my_range(start, stop=None, step=1):\n",
    "\n",
    "    if stop == None:\n",
    "        stop = start\n",
    "        start = 0\n",
    "\n",
    "    while True:\n",
    "        if step > 0 and start >= stop:\n",
    "            break\n",
    "        elif step < 0 and start <= stop:\n",
    "            break\n",
    "        yield (start)\n",
    "        start = start + step"
   ]
  },
  {
   "cell_type": "markdown",
   "id": "61290ea9-b375-4aaa-b4f0-0542b66afad7",
   "metadata": {},
   "source": [
    "*сравнение range(-10,2,2)*"
   ]
  },
  {
   "cell_type": "code",
   "execution_count": 2,
   "id": "5130bac3-4ab1-4d53-bd01-c8d3157a2491",
   "metadata": {},
   "outputs": [
    {
     "name": "stdout",
     "output_type": "stream",
     "text": [
      "Custom\tPython\n",
      "-10 \t -10\n",
      "-8 \t -8\n",
      "-6 \t -6\n",
      "-4 \t -4\n",
      "-2 \t -2\n",
      "0 \t 0\n"
     ]
    }
   ],
   "source": [
    "custom_range = list()\n",
    "for i in my_range(-10,2,2):\n",
    "    custom_range.append(i)\n",
    "\n",
    "python_range = list()\n",
    "for i in range(-10,2,2):\n",
    "    python_range.append(i)\n",
    "    \n",
    "print(\"Custom\\tPython\")\n",
    "\n",
    "for i in range(len(custom_range)):\n",
    "    print(custom_range[i],'\\t',python_range[i])"
   ]
  },
  {
   "cell_type": "markdown",
   "id": "f07b433f-49e4-4128-a831-481c3be5a12b",
   "metadata": {},
   "source": [
    "*сравнение range(-10,2,-2)*"
   ]
  },
  {
   "cell_type": "code",
   "execution_count": 3,
   "id": "758982c8-ab8c-43e6-90db-3e705791da89",
   "metadata": {},
   "outputs": [
    {
     "name": "stdout",
     "output_type": "stream",
     "text": [
      "Custom\tPython\n"
     ]
    }
   ],
   "source": [
    "custom_range.clear()\n",
    "for i in my_range(-10,2,-2):\n",
    "    custom_range.append(i)\n",
    "\n",
    "python_range.clear()\n",
    "for i in range(-10,2,-2):\n",
    "    python_range.append(i)\n",
    "\n",
    "print(\"Custom\\tPython\")\n",
    "for i in range(len(custom_range)):\n",
    "    print(custom_range[i],'\\t',python_range[i])"
   ]
  },
  {
   "cell_type": "markdown",
   "id": "dcb75d04-eee8-4dd7-a9cb-53c5ca7214e1",
   "metadata": {},
   "source": [
    "*сравнение range(10,2,-3)*"
   ]
  },
  {
   "cell_type": "code",
   "execution_count": 4,
   "id": "eac17cc3-37cf-48c5-abbd-9ca18a3951d6",
   "metadata": {},
   "outputs": [
    {
     "name": "stdout",
     "output_type": "stream",
     "text": [
      "Custom\tPython\n",
      "10 \t 10\n",
      "7 \t 7\n",
      "4 \t 4\n"
     ]
    }
   ],
   "source": [
    "custom_range.clear()\n",
    "for i in my_range(10,2,-3):\n",
    "    custom_range.append(i)\n",
    "\n",
    "python_range.clear()\n",
    "for i in range(10,2,-3):\n",
    "    python_range.append(i)\n",
    "\n",
    "print(\"Custom\\tPython\")\n",
    "for i in range(len(custom_range)):\n",
    "    print(custom_range[i],'\\t',python_range[i])"
   ]
  },
  {
   "cell_type": "markdown",
   "id": "46647dee-71b5-441d-8844-58ef6ea60077",
   "metadata": {},
   "source": [
    "*сравнение range(-10,2)*"
   ]
  },
  {
   "cell_type": "code",
   "execution_count": 5,
   "id": "5147d425-7599-47da-85a0-219e684fb1bf",
   "metadata": {},
   "outputs": [
    {
     "name": "stdout",
     "output_type": "stream",
     "text": [
      "Custom\tPython\n"
     ]
    }
   ],
   "source": [
    "custom_range.clear()\n",
    "for i in my_range(10,-2):\n",
    "    custom_range.append(i)\n",
    "\n",
    "python_range.clear()\n",
    "for i in range(10,-2):\n",
    "    python_range.append(i)\n",
    "\n",
    "print(\"Custom\\tPython\")\n",
    "for i in range(len(custom_range)):\n",
    "    print(custom_range[i],'\\t',python_range[i])"
   ]
  },
  {
   "cell_type": "markdown",
   "id": "92013d78-4c7f-4f13-b9b3-a84717b5a5c9",
   "metadata": {},
   "source": [
    "*сравнение range(-2,10)*"
   ]
  },
  {
   "cell_type": "code",
   "execution_count": 6,
   "id": "6568de08-2c31-4649-b99e-3ed19475fa10",
   "metadata": {},
   "outputs": [
    {
     "name": "stdout",
     "output_type": "stream",
     "text": [
      "Custom\tPython\n",
      "-2 \t -2\n",
      "-1 \t -1\n",
      "0 \t 0\n",
      "1 \t 1\n",
      "2 \t 2\n",
      "3 \t 3\n",
      "4 \t 4\n",
      "5 \t 5\n",
      "6 \t 6\n",
      "7 \t 7\n",
      "8 \t 8\n",
      "9 \t 9\n"
     ]
    }
   ],
   "source": [
    "custom_range.clear()\n",
    "for i in my_range(-2,10):\n",
    "    custom_range.append(i)\n",
    "\n",
    "python_range.clear()\n",
    "for i in range(-2,10):\n",
    "    python_range.append(i)\n",
    "\n",
    "print(\"Custom\\tPython\")\n",
    "for i in range(len(custom_range)):\n",
    "    print(custom_range[i],'\\t',python_range[i])"
   ]
  },
  {
   "cell_type": "markdown",
   "id": "589b542e-9048-47f4-b22a-0bf163809d5b",
   "metadata": {},
   "source": [
    "*сравнение range(10)*"
   ]
  },
  {
   "cell_type": "code",
   "execution_count": 7,
   "id": "15a1ad1a-89da-4235-80be-19ceecec429d",
   "metadata": {},
   "outputs": [
    {
     "name": "stdout",
     "output_type": "stream",
     "text": [
      "Custom\tPython\n",
      "0 \t 0\n",
      "1 \t 1\n",
      "2 \t 2\n",
      "3 \t 3\n",
      "4 \t 4\n",
      "5 \t 5\n",
      "6 \t 6\n",
      "7 \t 7\n",
      "8 \t 8\n",
      "9 \t 9\n"
     ]
    }
   ],
   "source": [
    "custom_range.clear()\n",
    "for i in my_range(10):\n",
    "    custom_range.append(i)\n",
    "\n",
    "python_range.clear()\n",
    "for i in range(10):\n",
    "    python_range.append(i)\n",
    "\n",
    "print(\"Custom\\tPython\")\n",
    "for i in range(len(custom_range)):\n",
    "    print(custom_range[i],'\\t',python_range[i])"
   ]
  },
  {
   "cell_type": "markdown",
   "id": "ff7ca3e4-5910-44a8-b868-94422a542d3b",
   "metadata": {},
   "source": [
    "*сравнение range(-10)*"
   ]
  },
  {
   "cell_type": "code",
   "execution_count": 8,
   "id": "647c6026-d6ff-4cb9-91d4-c29cce821f94",
   "metadata": {},
   "outputs": [
    {
     "name": "stdout",
     "output_type": "stream",
     "text": [
      "Custom\tPython\n"
     ]
    }
   ],
   "source": [
    "custom_range.clear()\n",
    "for i in my_range(-10):\n",
    "    custom_range.append(i)\n",
    "\n",
    "python_range.clear()\n",
    "for i in range(-10):\n",
    "    python_range.append(i)\n",
    "\n",
    "print(\"Custom\\tPython\")\n",
    "for i in range(len(custom_range)):\n",
    "    print(custom_range[i],'\\t',python_range[i])"
   ]
  },
  {
   "cell_type": "code",
   "execution_count": null,
   "id": "f9165c52-09d4-4d8b-ba80-c8e3c452803c",
   "metadata": {},
   "outputs": [],
   "source": []
  }
 ],
 "metadata": {
  "kernelspec": {
   "display_name": "Python 3",
   "language": "python",
   "name": "python3"
  },
  "language_info": {
   "codemirror_mode": {
    "name": "ipython",
    "version": 3
   },
   "file_extension": ".py",
   "mimetype": "text/x-python",
   "name": "python",
   "nbconvert_exporter": "python",
   "pygments_lexer": "ipython3",
   "version": "3.9.1"
  },
  "toc-autonumbering": false,
  "toc-showcode": false,
  "toc-showmarkdowntxt": false,
  "toc-showtags": true
 },
 "nbformat": 4,
 "nbformat_minor": 5
}
